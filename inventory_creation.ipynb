{
 "cells": [
  {
   "cell_type": "markdown",
   "id": "incomplete-aggregate",
   "metadata": {},
   "source": [
    "# Creating the IOOS Asset Inventory\n",
    "\n",
    "This notebook walks through the process for creating the asset inventory from the spreadsheets collected from the Regional Associations."
   ]
  },
  {
   "cell_type": "markdown",
   "id": "accredited-cardiff",
   "metadata": {},
   "source": [
    "First we need to import some libraries and enable KML support."
   ]
  },
  {
   "cell_type": "code",
   "execution_count": 1,
   "id": "consolidated-overhead",
   "metadata": {},
   "outputs": [],
   "source": [
    "import fiona\n",
    "import geopandas\n",
    "import matplotlib.pyplot as plt\n",
    "import os\n",
    "import pandas as pd\n",
    "\n",
    "fiona.drvsupport.supported_drivers['KML'] = 'rw'"
   ]
  },
  {
   "cell_type": "markdown",
   "id": "solid-attitude",
   "metadata": {},
   "source": [
    "Now we identify the directory where the excel spreadsheets are found. This should be edited to correspond with the appropriate year and file type to be processed."
   ]
  },
  {
   "cell_type": "code",
   "execution_count": 2,
   "id": "declared-characterization",
   "metadata": {},
   "outputs": [
    {
     "name": "stdout",
     "output_type": "stream",
     "text": [
      "Found 11 Excel workbooks\n"
     ]
    }
   ],
   "source": [
    "year = '2020'\n",
    "dir = year+'/data/processed/'\n",
    "files = os.listdir(dir)\n",
    "print('Found %i Excel workbooks' % len(files))"
   ]
  },
  {
   "cell_type": "markdown",
   "id": "duplicate-wrapping",
   "metadata": {},
   "source": [
    "Now start building the pandas DataFrame to capture the information in the spreadsheets. We do some minor cleaning here, including:\n",
    " * dropping empty rows\n",
    " * removing special characters\n",
    " * adding RA column if spreadsheet doesn't have it"
   ]
  },
  {
   "cell_type": "code",
   "execution_count": 3,
   "id": "ambient-dimension",
   "metadata": {},
   "outputs": [
    {
     "name": "stdout",
     "output_type": "stream",
     "text": [
      "Reading AOOS.xlsx\n",
      "Ingested AOOS.xlsx with 19 columns\n",
      "Reading CARICOOS.xlsx\n",
      "Ingested CARICOOS.xlsx with 19 columns\n",
      "Reading CeNCOOS.xlsx\n",
      "Ingested CeNCOOS.xlsx with 19 columns\n",
      "Reading GCOOS.xlsx\n",
      "Ingested GCOOS.xlsx with 19 columns\n",
      "Reading GLOS.xlsx\n",
      "Ingested GLOS.xlsx with 16 columns\n",
      "Reading MARACOOS.xlsx\n",
      "Ingested MARACOOS.xlsx with 19 columns\n",
      "Reading NANOOS.xlsx\n",
      "Ingested NANOOS.xlsx with 19 columns\n",
      "Reading NERACOOS.xlsx\n",
      "Ingested NERACOOS.xlsx with 19 columns\n",
      "Reading PacIOOS.xlsx\n",
      "Ingested PacIOOS.xlsx with 19 columns\n",
      "Reading SCCOOS.xlsx\n",
      "Ingested SCCOOS.xlsx with 19 columns\n",
      "Reading SECOORA.xlsx\n",
      "Ingested SECOORA.xlsx with 19 columns\n",
      "Initial row count: 567\n"
     ]
    }
   ],
   "source": [
    "df_raw = pd.DataFrame(\n",
    "    columns=['RA', 'Station ID', 'WMO ID or NWS/CMAN ID', 'Station Long Name',\n",
    "       'Station Description', 'Latitude (dec deg)', 'Longitude (dec deg)',\n",
    "       'Platform Type', 'Station Deployment (mm/yyyy, yyyy, < 5 yr, > 5 yr)',\n",
    "       'Currently Operational? (Y, N, O, U)', 'Platform Funder/Sponsor',\n",
    "       'RA Funding Involvement (Yf, Yp, N)', 'Platform Operator/Owner',\n",
    "       'Operator Sector', 'Platform Maintainer', 'Data Manager',\n",
    "       'Variable Names + water column depth of measurement in meters [CF_name (# m, # m) or CF_name (mult) or CF_name (# depths)].',\n",
    "       'Additional notes', 'file']\n",
    ")\n",
    "for file in files:\n",
    "    fname = dir + file\n",
    "\n",
    "    print('Reading %s' % file)\n",
    "    df = pd.read_excel(fname, header=0)\n",
    "\n",
    "    # Drop empty rows\n",
    "    df.dropna(axis='index', how='all', inplace=True)\n",
    "    # Removing special chars\n",
    "    df.replace('\\xa0', '', regex=True, inplace=True)\n",
    "\n",
    "    # create RA column if missing\n",
    "    if 'RA' not in df.columns:\n",
    "        df['RA'] = ''\n",
    "\n",
    "    # add the file name for use later\n",
    "    df['file'] = file\n",
    "\n",
    "    # concatenate data frames into one mongo DF.\n",
    "    df_raw = pd.concat([df_raw, df], ignore_index=True)\n",
    "\n",
    "    # print some information out\n",
    "    print('Ingested %s with %i columns' % (file, len(df.columns)))\n",
    "\n",
    "print('Initial row count: %i' % df_raw.shape[0])"
   ]
  },
  {
   "cell_type": "markdown",
   "id": "changed-scholar",
   "metadata": {},
   "source": [
    "Now we need to do a little cleaning to remove platform types that shouldn't be part of the inventory. So, we create a copy of the dataFrame for processing and remove the rows that have platforms of `surface_current_radar` and `glider`."
   ]
  },
  {
   "cell_type": "code",
   "execution_count": 4,
   "id": "close-desert",
   "metadata": {},
   "outputs": [
    {
     "name": "stdout",
     "output_type": "stream",
     "text": [
      "Removing platform type = 'surface_current_radar' | 'glider'.\n",
      "row count: 528\n"
     ]
    }
   ],
   "source": [
    "df_all = df_raw.copy()\n",
    "\n",
    "print('Removing platform type = \\'surface_current_radar\\' | \\'glider\\'.')\n",
    "df_all.drop(\n",
    "    df_all.loc[\n",
    "        (df_all['Platform Type'] == 'surface_current_radar') |\n",
    "        (df_all['Platform Type'] == 'glider')\n",
    "    ].index,\n",
    "    inplace=True)\n",
    "print('row count:', df_all.shape[0])"
   ]
  },
  {
   "cell_type": "markdown",
   "id": "legitimate-favorite",
   "metadata": {},
   "source": [
    "Convert lat/lon to floating points."
   ]
  },
  {
   "cell_type": "code",
   "execution_count": 5,
   "id": "tribal-grace",
   "metadata": {},
   "outputs": [],
   "source": [
    "df_all[['Latitude (dec deg)', 'Longitude (dec deg)']] = df_all[['Latitude (dec deg)', 'Longitude (dec deg)']].astype(float)"
   ]
  },
  {
   "cell_type": "markdown",
   "id": "angry-cowboy",
   "metadata": {},
   "source": [
    "Saving dates as strings"
   ]
  },
  {
   "cell_type": "code",
   "execution_count": 6,
   "id": "sorted-basket",
   "metadata": {},
   "outputs": [],
   "source": [
    "df_all['Station Deployment (mm/yyyy, yyyy, < 5 yr, > 5 yr)'] = \\\n",
    "    df_all['Station Deployment (mm/yyyy, yyyy, < 5 yr, > 5 yr)'].astype(str)"
   ]
  },
  {
   "cell_type": "markdown",
   "id": "regular-horizontal",
   "metadata": {},
   "source": [
    "Rename the columns for easier referencing later."
   ]
  },
  {
   "cell_type": "code",
   "execution_count": 7,
   "id": "restricted-administrator",
   "metadata": {},
   "outputs": [],
   "source": [
    "df_all.rename(columns=\n",
    "{'Variable Names + water column depth of measurement in meters [CF_name (# m, # m) or CF_name (mult) or CF_name (# depths)].':\n",
    "     'Variable Names',\n",
    " 'Station Deployment (mm/yyyy, yyyy, < 5 yr, > 5 yr)': 'Station Deployment',\n",
    " 'Longitude (dec deg)': 'Longitude',\n",
    " 'Latitude (dec deg)': 'Latitude'},\n",
    "              inplace=True)"
   ]
  },
  {
   "cell_type": "markdown",
   "id": "respected-official",
   "metadata": {},
   "source": [
    "Make a simple plot of station locations"
   ]
  },
  {
   "cell_type": "code",
   "execution_count": 8,
   "id": "raised-integration",
   "metadata": {},
   "outputs": [
    {
     "data": {
      "image/png": "[encoded data removed]",
      "text/plain": [
       "<Figure size 432x288 with 1 Axes>"
      ]
     },
     "metadata": {
      "needs_background": "light"
     },
     "output_type": "display_data"
    }
   ],
   "source": [
    "gdf = geopandas.GeoDataFrame(\n",
    "    df_all, geometry=geopandas.points_from_xy(df_all['Longitude'], df_all['Latitude']))\n",
    "world = geopandas.read_file(geopandas.datasets.get_path('naturalearth_lowres'))\n",
    "ax = world.plot(\n",
    "    color='white', edgecolor='black')\n",
    "gdf.plot(ax=ax, color='red', markersize=1)\n",
    "plt.show()"
   ]
  },
  {
   "cell_type": "markdown",
   "id": "advance-bullet",
   "metadata": {},
   "source": [
    "Create a final DataFrame for processed file"
   ]
  },
  {
   "cell_type": "code",
   "execution_count": 9,
   "id": "grave-apollo",
   "metadata": {},
   "outputs": [],
   "source": [
    "df_final = pd.DataFrame(columns=\n",
    "                        ['RA','Latitude','Longitude','Platform','Operational',\n",
    "                         'RA_Funded','Water_temp','Salinity','Wtr_press',\n",
    "                         'Dew_pt','Rel_hum','Air_temp','Winds','Air_press',\n",
    "                         'Precip','Solar_radn','Visibility','Water_level','Waves',\n",
    "                         'Currents','Turbidity','DO','pCO2_water','pCO2_air','TCO2',\n",
    "                         'pH','OmgArag_st','Chl','Nitrate','CDOM','Alkalinity','Acoustics'])\n",
    "\n",
    "df_final['RA'] = df_all['RA']\n",
    "df_final['station_long_name'] = df_all['Station Long Name']\n",
    "df_final['Latitude'] = df_all['Latitude']\n",
    "df_final['Longitude'] = df_all['Longitude']\n",
    "df_final['Platform'] = df_all['Platform Type']\n",
    "df_final['Operational'] = df_all['Currently Operational? (Y, N, O, U)']\n",
    "df_final['RA_Funded'] = df_all['RA Funding Involvement (Yf, Yp, N)']\n",
    "df_final['Raw_Vars'] = df_all['Variable Names']"
   ]
  },
  {
   "cell_type": "markdown",
   "id": "theoretical-questionnaire",
   "metadata": {},
   "source": [
    "Map provided variable text to standard vars and platforms to consistent platform categories"
   ]
  },
  {
   "cell_type": "code",
   "execution_count": 10,
   "id": "computational-product",
   "metadata": {},
   "outputs": [],
   "source": [
    "import utils.mapping\n",
    "\n",
    "df_final = utils.mapping.variables(df_final, df_all)\n",
    "df_final = utils.mapping.platforms(df_final)"
   ]
  },
  {
   "cell_type": "markdown",
   "id": "tamil-large",
   "metadata": {},
   "source": [
    "Reorganize the DataFrame"
   ]
  },
  {
   "cell_type": "code",
   "execution_count": 11,
   "id": "virtual-functionality",
   "metadata": {},
   "outputs": [],
   "source": [
    "cols = ['RA', 'Latitude', 'Longitude', 'station_long_name', 'Platform', 'Operational', 'RA_Funded',\n",
    "        'Water_temp', 'Salinity', 'Wtr_press', 'Dew_pt', 'Rel_hum', 'Air_temp',\n",
    "        'Winds', 'Air_press', 'Precip', 'Solar_radn', 'Visibility',\n",
    "        'Water_level', 'Waves', 'Currents', 'Turbidity', 'DO', 'pCO2_water',\n",
    "        'pCO2_air', 'TCO2', 'pH', 'OmgArag_st', 'Chl', 'Nitrate', 'CDOM',\n",
    "        'Alkalinity', 'Acoustics', 'Raw_Vars']\n",
    "df_final = df_final[cols]"
   ]
  },
  {
   "cell_type": "markdown",
   "id": "primary-benjamin",
   "metadata": {},
   "source": [
    "Create a geopandas DataFrame."
   ]
  },
  {
   "cell_type": "code",
   "execution_count": 12,
   "id": "agreed-tractor",
   "metadata": {},
   "outputs": [],
   "source": [
    "gdf_final = geopandas.GeoDataFrame(\n",
    "    df_final, geometry=geopandas.points_from_xy(df_final['Longitude'], df_final['Latitude']))"
   ]
  },
  {
   "cell_type": "markdown",
   "id": "republican-drama",
   "metadata": {},
   "source": [
    "Write data files."
   ]
  },
  {
   "cell_type": "code",
   "execution_count": 14,
   "id": "promotional-native",
   "metadata": {},
   "outputs": [
    {
     "name": "stdout",
     "output_type": "stream",
     "text": [
      "Saving inventory files...\n"
     ]
    }
   ],
   "source": [
    "print('Saving inventory files...')\n",
    "# csv\n",
    "df_raw.to_csv(year+'/combined_raw_inventory.csv', index=False)\n",
    "df_final.to_csv(year+'/processed_inventory.csv', index=False)\n",
    "# geojson\n",
    "gdf.to_file(year+'/combined_raw_inventory.geojson', driver='GeoJSON')\n",
    "gdf_final.to_file(year+'/processed_inventory.geojson', driver='GeoJSON')\n",
    "# kml\n",
    "gdf.to_file(year+'/combined_raw_inventory.kml', driver='KML')\n",
    "gdf_final.to_file(year+'/processed_inventory.kml', driver='KML')"
   ]
  },
  {
   "cell_type": "code",
   "execution_count": null,
   "id": "north-monday",
   "metadata": {},
   "outputs": [],
   "source": []
  }
 ],
 "metadata": {
  "kernelspec": {
   "display_name": "Python 3",
   "language": "python",
   "name": "python3"
  },
  "language_info": {
   "codemirror_mode": {
    "name": "ipython",
    "version": 3
   },
   "file_extension": ".py",
   "mimetype": "text/x-python",
   "name": "python",
   "nbconvert_exporter": "python",
   "pygments_lexer": "ipython3",
   "version": "3.8.6"
  }
 },
 "nbformat": 4,
 "nbformat_minor": 5
}
